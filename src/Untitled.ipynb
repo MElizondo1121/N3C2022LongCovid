{
 "cells": [
  {
   "cell_type": "markdown",
   "id": "7f14527a",
   "metadata": {},
   "source": [
    "Splitting"
   ]
  },
  {
   "cell_type": "code",
   "execution_count": 4,
   "id": "beadccf5",
   "metadata": {},
   "outputs": [
    {
     "ename": "ModuleNotFoundError",
     "evalue": "No module named 'pyspark'",
     "output_type": "error",
     "traceback": [
      "\u001b[1;31m---------------------------------------------------------------------------\u001b[0m",
      "\u001b[1;31mModuleNotFoundError\u001b[0m                       Traceback (most recent call last)",
      "Input \u001b[1;32mIn [4]\u001b[0m, in \u001b[0;36m<cell line: 2>\u001b[1;34m()\u001b[0m\n\u001b[0;32m      1\u001b[0m \u001b[38;5;28;01mimport\u001b[39;00m \u001b[38;5;21;01mpandas\u001b[39;00m \u001b[38;5;28;01mas\u001b[39;00m \u001b[38;5;21;01mpd\u001b[39;00m\n\u001b[1;32m----> 2\u001b[0m \u001b[38;5;28;01mfrom\u001b[39;00m \u001b[38;5;21;01mpyspark\u001b[39;00m\u001b[38;5;21;01m.\u001b[39;00m\u001b[38;5;21;01mml\u001b[39;00m\u001b[38;5;21;01m.\u001b[39;00m\u001b[38;5;21;01mclassification\u001b[39;00m \u001b[38;5;28;01mimport\u001b[39;00m LogisticRegression\n\u001b[0;32m      3\u001b[0m \u001b[38;5;28;01mfrom\u001b[39;00m \u001b[38;5;21;01mpyspark\u001b[39;00m\u001b[38;5;21;01m.\u001b[39;00m\u001b[38;5;21;01mml\u001b[39;00m\u001b[38;5;21;01m.\u001b[39;00m\u001b[38;5;21;01mfeature\u001b[39;00m \u001b[38;5;28;01mimport\u001b[39;00m VectorAssembler, StringIndexer,StandardScaler\n\u001b[0;32m      4\u001b[0m \u001b[38;5;28;01mfrom\u001b[39;00m \u001b[38;5;21;01mpyspark\u001b[39;00m\u001b[38;5;21;01m.\u001b[39;00m\u001b[38;5;21;01mml\u001b[39;00m \u001b[38;5;28;01mimport\u001b[39;00m Pipeline\n",
      "\u001b[1;31mModuleNotFoundError\u001b[0m: No module named 'pyspark'"
     ]
    }
   ],
   "source": [
    "import pandas as pd\n",
    "from pyspark.ml.classification import LogisticRegression\n",
    "from pyspark.ml.feature import VectorAssembler, StringIndexer,StandardScaler\n",
    "from pyspark.ml import Pipeline\n",
    "\n",
    "from pyspark.sql.functions import col, when, sum, first,  countDistinct, max\n",
    "from pyspark.ml.evaluation import MulticlassClassificationEvaluator\n",
    "from pyspark.mllib.evaluation import MulticlassMetrics\n",
    "from pyspark.ml.classification import DecisionTreeClassifier\n",
    "from pyspark.mllib.stat import Statistics \n",
    "from pyspark.ml.tuning import TrainValidationSplit, ParamGridBuilder\n",
    "from pyspark.sql import Window\n",
    "import pyspark.sql.functions as f\n"
   ]
  },
  {
   "cell_type": "code",
   "execution_count": 5,
   "id": "1e0bcc8d",
   "metadata": {},
   "outputs": [
    {
     "ename": "NameError",
     "evalue": "name 'transform_pandas' is not defined",
     "output_type": "error",
     "traceback": [
      "\u001b[1;31m---------------------------------------------------------------------------\u001b[0m",
      "\u001b[1;31mNameError\u001b[0m                                 Traceback (most recent call last)",
      "Input \u001b[1;32mIn [5]\u001b[0m, in \u001b[0;36m<cell line: 1>\u001b[1;34m()\u001b[0m\n\u001b[1;32m----> 1\u001b[0m \u001b[38;5;129m@transform_pandas\u001b[39m(\n\u001b[0;32m      2\u001b[0m     Output(rid\u001b[38;5;241m=\u001b[39m\u001b[38;5;124m\"\u001b[39m\u001b[38;5;124mri.foundry.main.dataset.a15e6e2a-1451-433e-adde-d102587615e3\u001b[39m\u001b[38;5;124m\"\u001b[39m),\n\u001b[0;32m      3\u001b[0m     Conditions_test\u001b[38;5;241m=\u001b[39mInput(rid\u001b[38;5;241m=\u001b[39m\u001b[38;5;124m\"\u001b[39m\u001b[38;5;124mri.foundry.main.dataset.38503fb2-3f49-4ea6-a2fd-be05ece66960\u001b[39m\u001b[38;5;124m\"\u001b[39m)\n\u001b[0;32m      4\u001b[0m )\n\u001b[0;32m      5\u001b[0m \u001b[38;5;28;01mdef\u001b[39;00m \u001b[38;5;21mCond_Features\u001b[39m(Conditions_test):\n\u001b[0;32m      6\u001b[0m     df \u001b[38;5;241m=\u001b[39m Conditions_test\n\u001b[0;32m      7\u001b[0m     fever \u001b[38;5;241m=\u001b[39m [\u001b[38;5;124m'\u001b[39m\u001b[38;5;124mFever\u001b[39m\u001b[38;5;124m'\u001b[39m,\u001b[38;5;124m'\u001b[39m\u001b[38;5;124mPostprocedural fever\u001b[39m\u001b[38;5;124m'\u001b[39m]\n",
      "\u001b[1;31mNameError\u001b[0m: name 'transform_pandas' is not defined"
     ]
    }
   ],
   "source": [
    "\n",
    "@transform_pandas(\n",
    "    Output(rid=\"ri.foundry.main.dataset.a15e6e2a-1451-433e-adde-d102587615e3\"),\n",
    "    Conditions_test=Input(rid=\"ri.foundry.main.dataset.38503fb2-3f49-4ea6-a2fd-be05ece66960\")\n",
    ")\n",
    "def Cond_Features(Conditions_test):\n",
    "    df = Conditions_test\n",
    "    fever = ['Fever','Postprocedural fever']\n",
    "    cough = ['Chronic cough','Cough', 'Chronic fatigue syndrome']\n",
    "    fatigue = ['Fatigue','Postviral fatigue syndrome']\n",
    "    covid = ['COVID-19','Post-acute COVID-19']\n",
    "    renal = ['Acquired renal cystic disease','Acute adrenal insufficiency','Acute renal failure syndrome','Adrenal cortical hypofunction','Benign neoplasm of left adrenal gland','Benign neoplasm of right adrenal gland','Disorder of adrenal gland','End-stage renal disease','Hepatorenal syndrome','Hyperparathyroidism due to renal insufficiency','Hypertensive heart and renal disease with (congestive) heart failure','Hypertensive renal failure','Renal disorder due to type 2 diabetes mellitus','Renal hypertension','Renal osteodystrophy']\n",
    "    obesity = ['Maternal obesity syndrome', 'Morbid obesity','Obesity','Severe obesity', 'Simple obesity', 'Drug-induced obesity']\n",
    "    brain_injury = ['Perinatal anoxic-ischemic brain injury',\n",
    "'Traumatic brain injury with brief loss of consciousness','Diffuse brain injury','Traumatic brain injury','Traumatic brain injury with prolonged loss of consciousness','Traumatic brain injury with moderate loss of consciousness','Traumatic brain injury with loss of consciousness', 'Focal brain injury','Traumatic brain injury with no loss of consciousness']\n",
    "    deformity_foot = ['Acquired deformity of foot', 'Congenital valgus deformity of foot', 'Congenital deformity of foot', 'Acquired equinus deformity of foot', 'Acquired cavus deformity of foot', 'Congenital varus deformity of foot', 'Acquired cavovarus deformity of foot']\n",
    "    respiratory_failure = ['Acute hypoxemic respiratory failure', 'Chronic hypoxemic respiratory failure','Acute on chronic hypoxemic respiratory failure', 'Acute hypercapnic respiratory failure','Acute on chronic hypercapnic respiratory failure','Hypoxemic respiratory failure','Chronic hypercapnic respiratory failure','Acute respiratory failure','Chronic respiratory failure','Acute-on-chronic respiratory failure','Postprocedural respiratory failure','Neonatal respiratory failure','Hypercapnic respiratory failure']\n",
    "    oltagia =['Referred otalgia','Otogenic otalgia', 'Otogenic otalgia of left ear', 'Otalgia', 'Otalgia of right ear', 'Otalgia of left ear']\n",
    "    venticular = ['Supraventricular tachycardia', 'Ventricular tachycardia',\n",
    "'Paroxysmal ventricular tachycardia','Paroxysmal supraventricular tachycardia','Recurrent ventricular tachycardia','Nonsustained ventricular tachycardia','Re-entrant atrioventricular tachycardia']\n",
    "    elevation = ['Acute non-ST segment elevation myocardial infarction','Acute ST segment elevation myocardial infarction','Acute ST segment elevation myocardial infarction involving left anterior descending coronary artery','Acute ST segment elevation myocardial infarction due to left coronary artery occlusion','Acute ST segment elevation myocardial infarction due to occlusion of anterior descending branch of left coronary artery','ST segment elevation']\n",
    "    bypass = ['Aortocoronary bypass graft present']\n",
    "    trial_fib = ['Atrial fibrillation','Paroxysmal atrial fibrillation','Chronic atrial fibrillation','Atrial fibrillation with rapid ventricular response','Atrial fibrillation and flutter']\n",
    "    disorders = ['Disorder of immune function','Disorder of salivary gland','Disorder of male genital organ']\n",
    "    effusion_of_joint = ['Effusion of joint', 'Effusion of joint of shoulder region', 'Effusion of joint of hand', 'Effusion of joint of right ankle', 'Effusion of joint of left ankle', 'Effusion of joint of left hip','Effusion of joint of left knee','Effusion of joint of multiple sites','Effusion of joint of pelvic region','Effusion of joint of right elbow'\n",
    "'Effusion of joint of left elbow']\n",
    "    hernia = ['Hernia of abdominal cavity','Hernia of abdominal wall']\n",
    "    nutricional_def = ['Nutritional deficiency disorder','Dilated cardiomyopathy due to nutritional deficiency']\n",
    "    pain_in_limb = ['Pain in limb','Pain in limb - multiple']\n",
    "    pain_in_hand = ['Pain in right hand','Joint pain in right hand']\n",
    "    cyst = ['Pilonidal cyst']\n",
    "    loss = ['Loss of taste']\n",
    "    seasonal =['Seasonal allergic rhinitis']\n",
    "    #df = df.drop('condition_occurrence_count').dropDuplicates()\n",
    "\n",
    "    aggregated = df.groupby('condition_concept_name', 'person_id').agg(max('condition_duration').alias('total_condition_duration'))\n",
    "    agg = df.groupby('condition_concept_name', 'person_id').agg(sum('condition_occurrence_count').alias('total_occurrence_count'))\n",
    "\n",
    "    df = df.join(aggregated, on =['person_id', 'condition_concept_name'])\n",
    "    df = df.join(agg, on =['person_id', 'condition_concept_name'])\n",
    "\n",
    "    df = df.withColumn('LossOfTaste_Cond', when(col('condition_concept_name').isin(loss), col('total_condition_duration')))\n",
    "    df = df.withColumn('Allergic_rhinitis_Cond', when(col('condition_concept_name').isin(seasonal), col('total_condition_duration')))\n",
    "    df = df.withColumn('Bypass_graft_Cond', when(col('condition_concept_name').isin(bypass), col('total_condition_duration')))\n",
    "    df = df.withColumn('Cough_Cond', when(col('condition_concept_name').isin(cough), col('total_condition_duration')))\n",
    "    df = df.withColumn('Fever_Cond', when(col('condition_concept_name').isin(fever),  col('total_condition_duration')))\n",
    "    df = df.withColumn('Fatigue_Cond', when(col('condition_concept_name').isin(fatigue), col('total_condition_duration')))\n",
    "    df = df.withColumn('Renal_Cond', when(col('condition_concept_name').isin(renal), col('total_condition_duration')))\n",
    "    df = df.withColumn('Obesity_Cond', when(col('condition_concept_name').isin(obesity), col('total_condition_duration')))\n",
    "    df = df.withColumn('Covid_Cond', when(col('condition_concept_name').isin(covid), col('total_condition_duration')))\n",
    "    df = df.withColumn('Brain_injury_Cond', when(col('condition_concept_name').isin(brain_injury), col('total_condition_duration')))\n",
    "    df = df.withColumn('Deformity_foot_Cond', when(col('condition_concept_name').isin(deformity_foot), col('total_condition_duration')))\n",
    "    df = df.withColumn('Respiratory_fail_Cond', when(col('condition_concept_name').isin(respiratory_failure), col('total_condition_duration')))\n",
    "    df = df.withColumn('Oltagia_Cond', when(col('condition_concept_name').isin(oltagia), col('total_condition_duration')))\n",
    "    df = df.withColumn('Venticular_Cond', when(col('condition_concept_name').isin(venticular), col('total_condition_duration')))\n",
    "    df = df.withColumn('Elevation_Cond', when(col('condition_concept_name').isin(elevation), col('total_condition_duration')))\n",
    "    df = df.withColumn('Trial_fib_Cond', when(col('condition_concept_name').isin(trial_fib), col('total_condition_duration')))\n",
    "    df = df.withColumn('Disorders_Cond', when(col('condition_concept_name').isin(disorders), col('total_condition_duration')))\n",
    "    df = df.withColumn('Effusion_Cond', when(col('condition_concept_name').isin(effusion_of_joint), col('total_condition_duration')))\n",
    "    df = df.withColumn('Hernia_Cond', when(col('condition_concept_name').isin(hernia), col('total_condition_duration')))\n",
    "    df = df.withColumn('Nutricional_def_Cond', when(col('condition_concept_name').isin(nutricional_def), col('total_condition_duration')))\n",
    "    df = df.withColumn('Pain_limb_Cond', when(col('condition_concept_name').isin(pain_in_limb), col('total_condition_duration')))\n",
    "    df = df.withColumn('Pain_hand_Cond', when(col('condition_concept_name').isin(pain_in_hand), col('total_condition_duration')))\n",
    "    df = df.withColumn('Cyst_Cond', when(col('condition_concept_name').isin(cyst), col('total_condition_duration')))\n",
    "\n",
    "    df = df.withColumn('Other_Cond', when((col('condition_concept_name').isin(cough) ==False) & (col('condition_concept_name').isin(fever) ==False)& (col('condition_concept_name').isin(fatigue) ==False)&  (col('condition_concept_name').isin(renal) ==False)& (col('condition_concept_name').isin(obesity) ==False)&(col('condition_concept_name').isin(covid) ==False)& (col('condition_concept_name').isin(brain_injury) ==False)&(col('condition_concept_name').isin(deformity_foot) == False)&(col('condition_concept_name').isin(respiratory_failure) == False)&(col('condition_concept_name').isin(oltagia) == False)&(col('condition_concept_name').isin(venticular) == False)&(col('condition_concept_name').isin(elevation) == False)&(col('condition_concept_name').isin(trial_fib) == False)&(col('condition_concept_name').isin(disorders) == False)&(col('condition_concept_name').isin(effusion_of_joint) == False)&(col('condition_concept_name').isin(hernia) == False)&(col('condition_concept_name').isin(nutricional_def) == False)&(col('condition_concept_name').isin(pain_in_limb) == False)&(col('condition_concept_name').isin(pain_in_hand) == False)&(col('condition_concept_name').isin(cyst) == False)&(col('condition_concept_name').isin(loss) == False)&(col('condition_concept_name').isin(seasonal) == False)&(col('condition_concept_name').isin(bypass) == False),col('total_condition_duration')))\n",
    "    \n",
    "    df_ = df.groupby('person_id').agg(first('LossOfTaste_Cond', ignorenulls=True).alias('LossOfTaste_Cond_'),first('Cough_Cond', ignorenulls=True).alias('Cough_Cond_'), first('Allergic_rhinitis_Cond', ignorenulls=True).alias('Allergic_rhinitis_Cond_'),first('Covid_Cond' , ignorenulls=True).alias('Covid_Cond_'),first('Renal_Cond' , ignorenulls=True).alias('Renal_Cond_'),first('Obesity_Cond' , ignorenulls=True).alias('Obesity_Cond_'),first('Fever_Cond' , ignorenulls=True).alias('Fever_Cond_'),first('Fatigue_Cond', ignorenulls=True).alias('Fatigue_Cond_'), first('Other_Cond', ignorenulls=True).alias('Other_Cond_'),first('Bypass_graft_Cond' , ignorenulls=True).alias('Bypass_graft_Cond_'),first('Deformity_foot_Cond' , ignorenulls=True).alias('Deformity_foot_Cond_'), first('Respiratory_fail_Cond' , ignorenulls=True).alias('Respiratory_fail_Cond_'),first('Brain_injury_Cond', ignorenulls=True).alias('Brain_injury_Cond_'),first('Oltagia_Cond', ignorenulls=True).alias('Oltagia_Cond_'),first('Venticular_Cond', ignorenulls=True).alias('Venticular_Cond_'),first('Elevation_Cond', ignorenulls=True).alias('Elevation_Cond_'),first('Trial_fib_Cond', ignorenulls=True).alias('Trial_fib_Cond_'),first('Disorders_Cond', ignorenulls=True).alias('Disorders_Cond_'),first('Effusion_Cond', ignorenulls=True).alias('Effusion_Cond_'),first('Hernia_Cond', ignorenulls=True).alias('Hernia_Cond_'),first('Nutricional_def_Cond', ignorenulls=True).alias('Nutricional_def_Cond_'),first('Pain_limb_Cond', ignorenulls=True).alias('Pain_limb_Cond_'),first('Pain_hand_Cond', ignorenulls=True).alias('Pain_hand_Cond_'),first('Cyst_Cond', ignorenulls=True).alias('Cyst_Cond_'))\n",
    "    df = df.join(df_, on =['person_id'], how='full_outer').fillna(0)\n",
    "    \n",
    "\n",
    "    personIndex = StringIndexer(inputCol = 'person_id', outputCol= 'personIndex')\n",
    "    conditionIndex= StringIndexer(inputCol = 'condition_concept_id', outputCol= 'conditionIndex').setHandleInvalid(\"skip\")\n",
    "    #'dataPartnerIndex' is removed from assembler, result\n",
    "    encoded_df = Pipeline(stages=[personIndex, conditionIndex]).fit(df).transform(df)\n",
    "    \n",
    "    assembler = VectorAssembler().setInputCols(['personIndex','LossOfTaste_Cond_','Cough_Cond_','Allergic_rhinitis_Cond_','Covid_Cond_','Renal_Cond_','Obesity_Cond_','Fever_Cond_','Fatigue_Cond_','Other_Cond_','Bypass_graft_Cond_','Deformity_foot_Cond_','Respiratory_fail_Cond_','Brain_injury_Cond_','Oltagia_Cond_','Venticular_Cond_','Elevation_Cond_','Trial_fib_Cond_','Disorders_Cond_','Effusion_Cond_','Hernia_Cond_','Nutricional_def_Cond_','Pain_limb_Cond_','Pain_hand_Cond_','Cyst_Cond_']).setOutputCol('features')\n",
    "\n",
    "    result = assembler.transform(encoded_df)\n",
    "    result = result.select('person_id','personIndex', 'LossOfTaste_Cond_','Cough_Cond_','Allergic_rhinitis_Cond_','Covid_Cond_','Renal_Cond_','Obesity_Cond_','Fever_Cond_','Fatigue_Cond_','Other_Cond_','Bypass_graft_Cond_','Deformity_foot_Cond_','Respiratory_fail_Cond_','Brain_injury_Cond_','Oltagia_Cond_','Venticular_Cond_','Elevation_Cond_','Trial_fib_Cond_','Disorders_Cond_','Effusion_Cond_','Hernia_Cond_','Nutricional_def_Cond_','Pain_limb_Cond_','Pain_hand_Cond_','Cyst_Cond_','features')\n",
    "\n",
    "    result = result.dropDuplicates(['features'])\n",
    "    result = result.na.fill(0)\n",
    "    return result\n"
   ]
  },
  {
   "cell_type": "code",
   "execution_count": null,
   "id": "388c6fe2",
   "metadata": {},
   "outputs": [],
   "source": []
  }
 ],
 "metadata": {
  "kernelspec": {
   "display_name": "Python 3 (ipykernel)",
   "language": "python",
   "name": "python3"
  },
  "language_info": {
   "codemirror_mode": {
    "name": "ipython",
    "version": 3
   },
   "file_extension": ".py",
   "mimetype": "text/x-python",
   "name": "python",
   "nbconvert_exporter": "python",
   "pygments_lexer": "ipython3",
   "version": "3.9.12"
  }
 },
 "nbformat": 4,
 "nbformat_minor": 5
}
