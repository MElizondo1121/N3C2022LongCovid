{
 "cells": [
  {
   "cell_type": "markdown",
   "id": "7e8cf764",
   "metadata": {},
   "source": [
    "## Integrating ML Synthea Project"
   ]
  },
  {
   "cell_type": "markdown",
   "id": "7c233307",
   "metadata": {},
   "source": [
    "Utilizing Bridget's data files:\n",
    "[ML4347-project-synthea](https://git.txstate.edu/a-p789/ML4347-project-synthea)\n",
    "\n",
    "    5 files data files were used: allergies, conditions, immunizations, observations, and patients datasets\n",
    "\n",
    "    Enclave Files:\n",
    "    \n",
    "    Demographics: Person\n",
    "    Conditions: Condition\n",
    "    Observations: Observations\n",
    "    Diagnosis: Dem, Cond, Obse\n",
    "    Drugs\n",
    "    \n",
    "    \n",
    "In comparison, \n",
    "\n",
    "    allergies are integrated into the conditions data by listing specific allergies or 'allergy'.\n",
    "    Medications (drugs) was not used in this project\n",
    "    Did not integrate time variable as it created duplicate patients. \n",
    "    Note: features that had less than 1000 observations were dropped and rest of the values were filled depending on the context of each feature. \n",
    "    Logistic Regression did not perform well as the baseline model due to the high feature count and the unbalance.\n",
    "    \n",
    "    \n",
    "Takeaway, \n",
    "\n",
    "    Conditions did not contribute much to a death but observations and age were the most important features. Final model chosen was XGBoost and the most \"important features were Oxygen saturation in Arterial blood, QALY, Systolic Blood Pressure, Age, DALY, Body temperature, BMI, Heart rate, Diastolic Blood Pressure, and Pain severity - 0-10 verbal numeric rating Score (respectively)\"\n",
    "    \n",
    "    \n",
    "Enclave:\n",
    "    \n",
    "    Final model "
   ]
  },
  {
   "cell_type": "code",
   "execution_count": null,
   "id": "b56bf04c",
   "metadata": {},
   "outputs": [],
   "source": []
  },
  {
   "cell_type": "code",
   "execution_count": null,
   "id": "f3ed45ac",
   "metadata": {},
   "outputs": [],
   "source": []
  },
  {
   "cell_type": "code",
   "execution_count": null,
   "id": "102b38da",
   "metadata": {},
   "outputs": [],
   "source": [
    "df_patients = pd.read_csv('../data/patients.csv')\n",
    "df_conditions = pd.read_csv('../data/conditions.csv')\n",
    "df_observations = pd.read_csv('../data/observations.csv')\n",
    "df_medications = pd.read_csv('../data/medications.csv')"
   ]
  }
 ],
 "metadata": {
  "kernelspec": {
   "display_name": "Python 3 (ipykernel)",
   "language": "python",
   "name": "python3"
  },
  "language_info": {
   "codemirror_mode": {
    "name": "ipython",
    "version": 3
   },
   "file_extension": ".py",
   "mimetype": "text/x-python",
   "name": "python",
   "nbconvert_exporter": "python",
   "pygments_lexer": "ipython3",
   "version": "3.9.12"
  }
 },
 "nbformat": 4,
 "nbformat_minor": 5
}
