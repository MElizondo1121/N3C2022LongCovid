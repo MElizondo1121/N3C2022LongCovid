{
 "cells": [
  {
   "cell_type": "markdown",
   "id": "df70fe02",
   "metadata": {},
   "source": [
    "# Cleaning and Data Integration"
   ]
  },
  {
   "cell_type": "markdown",
   "id": "3c74363a",
   "metadata": {},
   "source": [
    "This notebook is reading 10k_synthea_covid19_csv to analyze those that are similar to the Enclave files:\n",
    "    \n",
    "    Enclave Files:\n",
    "    \n",
    "    Demographics: Person\n",
    "    Conditions: Condition\n",
    "    Observations: Observations\n",
    "    Diagnosis: Dem, Cond, Obse\n",
    "    Drugs\n",
    "    \n",
    "    Synthea Files:\n",
    "    \n",
    "    Conditions: Conditions\n",
    "    Observations: Observations\n",
    "    Medications: Drugs\n",
    "    Patients: Demographics\n",
    "    Diagnosis: Patients, Cond, Obse\n",
    "    \n",
    "\n",
    "\n"
   ]
  },
  {
   "cell_type": "code",
   "execution_count": 1,
   "id": "d61f6d80",
   "metadata": {},
   "outputs": [],
   "source": [
    "import pandas as pd\n",
    "import numpy as np\n",
    "import seaborn as sns\n",
    "import matplotlib.pyplot as plt"
   ]
  },
  {
   "cell_type": "markdown",
   "id": "51554bdb",
   "metadata": {},
   "source": [
    "from pyspark.ml.classification import LogisticRegression\n",
    "from pyspark.ml.feature import VectorAssembler, StringIndexer,StandardScaler\n",
    "from pyspark.ml import Pipeline\n",
    "\n",
    "from pyspark.sql.functions import col, when, sum, first,  countDistinct, max\n",
    "from pyspark.ml.evaluation import MulticlassClassificationEvaluator\n",
    "from pyspark.mllib.evaluation import MulticlassMetrics\n",
    "from pyspark.ml.classification import DecisionTreeClassifier\n",
    "from pyspark.mllib.stat import Statistics \n",
    "from pyspark.ml.tuning import TrainValidationSplit, ParamGridBuilder\n",
    "from pyspark.sql import Window\n",
    "import pyspark.sql.functions as f"
   ]
  },
  {
   "cell_type": "code",
   "execution_count": 2,
   "id": "32e85a9a",
   "metadata": {},
   "outputs": [],
   "source": [
    "import warnings\n",
    "warnings.filterwarnings('ignore')"
   ]
  },
  {
   "cell_type": "code",
   "execution_count": 3,
   "id": "95aa3c54",
   "metadata": {},
   "outputs": [],
   "source": [
    "df_patients = pd.read_csv('../data/patients.csv')\n",
    "df_conditions = pd.read_csv('../data/conditions.csv')\n",
    "df_observations = pd.read_csv('../data/observations.csv')\n",
    "df_medications = pd.read_csv('../data/medications.csv')"
   ]
  },
  {
   "cell_type": "markdown",
   "id": "59b1349b",
   "metadata": {},
   "source": [
    "### Demographics - Patients\n",
    "\n",
    "Enclave Demographics Columns\n",
    "\n",
    "person_id,\n",
    "pasc_code_after_four_weeks,\n",
    "\n",
    "age,\n",
    "ageGroup_infant,\n",
    "ageGroup_toddler,\n",
    "ageGroup_adolescent,\n",
    "ageGroup_youngAd,\n",
    "ageGroup_adult,\n",
    "ageGroup_olderAd,\n",
    "ageGroup_elderly,\n",
    "\n",
    "gender_fem,\n",
    "gender_mal,\n",
    "gender_unk,\n",
    "\n",
    "race_none,\n",
    "race_mult,\n",
    "race_unk,\n",
    "race_whi,\n",
    "race_his,\n",
    "race_asi,\n",
    "race_bla,\n",
    "race_nat,\n",
    "race_ind,\n",
    "\n",
    "ethnicity_unk,\n",
    "ethnicity_his,\n",
    "ethnicity_notHis,"
   ]
  },
  {
   "cell_type": "code",
   "execution_count": 4,
   "id": "47334646",
   "metadata": {},
   "outputs": [],
   "source": [
    "cols = ['Id', 'BIRTHDATE', 'RACE','ETHNICITY','GENDER']\n",
    "df = df_patients[cols]"
   ]
  },
  {
   "cell_type": "code",
   "execution_count": 5,
   "id": "a2f6d238",
   "metadata": {},
   "outputs": [],
   "source": [
    "df['BIRTHDATE']=df['BIRTHDATE'].astype(str).str[0:4].astype(int)\n",
    "df['age'] = 2021 - df['BIRTHDATE']"
   ]
  },
  {
   "cell_type": "code",
   "execution_count": 6,
   "id": "a5601994",
   "metadata": {},
   "outputs": [
    {
     "data": {
      "text/html": [
       "<div>\n",
       "<style scoped>\n",
       "    .dataframe tbody tr th:only-of-type {\n",
       "        vertical-align: middle;\n",
       "    }\n",
       "\n",
       "    .dataframe tbody tr th {\n",
       "        vertical-align: top;\n",
       "    }\n",
       "\n",
       "    .dataframe thead th {\n",
       "        text-align: right;\n",
       "    }\n",
       "</style>\n",
       "<table border=\"1\" class=\"dataframe\">\n",
       "  <thead>\n",
       "    <tr style=\"text-align: right;\">\n",
       "      <th></th>\n",
       "      <th>Id</th>\n",
       "      <th>BIRTHDATE</th>\n",
       "      <th>RACE</th>\n",
       "      <th>ETHNICITY</th>\n",
       "      <th>GENDER</th>\n",
       "      <th>age</th>\n",
       "    </tr>\n",
       "  </thead>\n",
       "  <tbody>\n",
       "    <tr>\n",
       "      <th>0</th>\n",
       "      <td>f0f3bc8d-ef38-49ce-a2bd-dfdda982b271</td>\n",
       "      <td>2017</td>\n",
       "      <td>white</td>\n",
       "      <td>nonhispanic</td>\n",
       "      <td>M</td>\n",
       "      <td>4</td>\n",
       "    </tr>\n",
       "    <tr>\n",
       "      <th>1</th>\n",
       "      <td>067318a4-db8f-447f-8b6e-f2f61e9baaa5</td>\n",
       "      <td>2016</td>\n",
       "      <td>white</td>\n",
       "      <td>nonhispanic</td>\n",
       "      <td>F</td>\n",
       "      <td>5</td>\n",
       "    </tr>\n",
       "    <tr>\n",
       "      <th>2</th>\n",
       "      <td>ae9efba3-ddc4-43f9-a781-f72019388548</td>\n",
       "      <td>1992</td>\n",
       "      <td>white</td>\n",
       "      <td>nonhispanic</td>\n",
       "      <td>M</td>\n",
       "      <td>29</td>\n",
       "    </tr>\n",
       "    <tr>\n",
       "      <th>3</th>\n",
       "      <td>199c586f-af16-4091-9998-ee4cfc02ee7a</td>\n",
       "      <td>2004</td>\n",
       "      <td>white</td>\n",
       "      <td>nonhispanic</td>\n",
       "      <td>F</td>\n",
       "      <td>17</td>\n",
       "    </tr>\n",
       "    <tr>\n",
       "      <th>4</th>\n",
       "      <td>353016ea-a0ff-4154-85bb-1cf8b6cedf20</td>\n",
       "      <td>1996</td>\n",
       "      <td>white</td>\n",
       "      <td>nonhispanic</td>\n",
       "      <td>M</td>\n",
       "      <td>25</td>\n",
       "    </tr>\n",
       "    <tr>\n",
       "      <th>...</th>\n",
       "      <td>...</td>\n",
       "      <td>...</td>\n",
       "      <td>...</td>\n",
       "      <td>...</td>\n",
       "      <td>...</td>\n",
       "      <td>...</td>\n",
       "    </tr>\n",
       "    <tr>\n",
       "      <th>12347</th>\n",
       "      <td>eec72396-d10e-4b8e-8fb6-25fc1e396031</td>\n",
       "      <td>1962</td>\n",
       "      <td>asian</td>\n",
       "      <td>nonhispanic</td>\n",
       "      <td>F</td>\n",
       "      <td>59</td>\n",
       "    </tr>\n",
       "    <tr>\n",
       "      <th>12348</th>\n",
       "      <td>3daf2b90-c439-469f-bb44-fb6109c6a8a7</td>\n",
       "      <td>1918</td>\n",
       "      <td>white</td>\n",
       "      <td>nonhispanic</td>\n",
       "      <td>F</td>\n",
       "      <td>103</td>\n",
       "    </tr>\n",
       "    <tr>\n",
       "      <th>12349</th>\n",
       "      <td>cb03d88e-7f08-46a1-be78-70d9fe8262a7</td>\n",
       "      <td>1918</td>\n",
       "      <td>white</td>\n",
       "      <td>nonhispanic</td>\n",
       "      <td>F</td>\n",
       "      <td>103</td>\n",
       "    </tr>\n",
       "    <tr>\n",
       "      <th>12350</th>\n",
       "      <td>435be43f-cb57-442f-aeb2-51018b030ed0</td>\n",
       "      <td>1918</td>\n",
       "      <td>white</td>\n",
       "      <td>nonhispanic</td>\n",
       "      <td>F</td>\n",
       "      <td>103</td>\n",
       "    </tr>\n",
       "    <tr>\n",
       "      <th>12351</th>\n",
       "      <td>2712205f-755e-4897-acb3-926895b7d635</td>\n",
       "      <td>1941</td>\n",
       "      <td>white</td>\n",
       "      <td>nonhispanic</td>\n",
       "      <td>M</td>\n",
       "      <td>80</td>\n",
       "    </tr>\n",
       "  </tbody>\n",
       "</table>\n",
       "<p>12352 rows × 6 columns</p>\n",
       "</div>"
      ],
      "text/plain": [
       "                                         Id  BIRTHDATE   RACE    ETHNICITY  \\\n",
       "0      f0f3bc8d-ef38-49ce-a2bd-dfdda982b271       2017  white  nonhispanic   \n",
       "1      067318a4-db8f-447f-8b6e-f2f61e9baaa5       2016  white  nonhispanic   \n",
       "2      ae9efba3-ddc4-43f9-a781-f72019388548       1992  white  nonhispanic   \n",
       "3      199c586f-af16-4091-9998-ee4cfc02ee7a       2004  white  nonhispanic   \n",
       "4      353016ea-a0ff-4154-85bb-1cf8b6cedf20       1996  white  nonhispanic   \n",
       "...                                     ...        ...    ...          ...   \n",
       "12347  eec72396-d10e-4b8e-8fb6-25fc1e396031       1962  asian  nonhispanic   \n",
       "12348  3daf2b90-c439-469f-bb44-fb6109c6a8a7       1918  white  nonhispanic   \n",
       "12349  cb03d88e-7f08-46a1-be78-70d9fe8262a7       1918  white  nonhispanic   \n",
       "12350  435be43f-cb57-442f-aeb2-51018b030ed0       1918  white  nonhispanic   \n",
       "12351  2712205f-755e-4897-acb3-926895b7d635       1941  white  nonhispanic   \n",
       "\n",
       "      GENDER  age  \n",
       "0          M    4  \n",
       "1          F    5  \n",
       "2          M   29  \n",
       "3          F   17  \n",
       "4          M   25  \n",
       "...      ...  ...  \n",
       "12347      F   59  \n",
       "12348      F  103  \n",
       "12349      F  103  \n",
       "12350      F  103  \n",
       "12351      M   80  \n",
       "\n",
       "[12352 rows x 6 columns]"
      ]
     },
     "execution_count": 6,
     "metadata": {},
     "output_type": "execute_result"
    }
   ],
   "source": [
    "df"
   ]
  },
  {
   "cell_type": "code",
   "execution_count": 7,
   "id": "239eb8a8",
   "metadata": {},
   "outputs": [
    {
     "data": {
      "image/png": "[encoded data removed]",
      "text/plain": [
       "<Figure size 1440x144 with 1 Axes>"
      ]
     },
     "metadata": {
      "needs_background": "light"
     },
     "output_type": "display_data"
    }
   ],
   "source": [
    "plt.rcParams['figure.figsize'] = (20,2)\n",
    "sns.heatmap(df.isna(), yticklabels = False, cbar = False , cmap = 'viridis')\n",
    "plt.title(\"Missing null values\")\n",
    "plt.show()"
   ]
  },
  {
   "cell_type": "code",
   "execution_count": 8,
   "id": "c5bfc6ee",
   "metadata": {
    "scrolled": true
   },
   "outputs": [
    {
     "data": {
      "image/png": "[encoded data removed]",
      "text/plain": [
       "<Figure size 1440x720 with 1 Axes>"
      ]
     },
     "metadata": {},
     "output_type": "display_data"
    }
   ],
   "source": [
    "sns.set(rc={'figure.figsize':(20,10)})\n",
    "sns.set(font_scale=2)\n",
    "\n",
    "g = sns.histplot(data=df, x='age', shrink=0.8, color='#8de4a1', label='Age', element=\"step\", stat=\"count\")\n",
    "\n",
    "plt.legend(loc='upper right', fontsize=20)\n",
    "plt.show()"
   ]
  },
  {
   "cell_type": "markdown",
   "id": "9f6c1591",
   "metadata": {},
   "source": [
    "### Age"
   ]
  },
  {
   "cell_type": "code",
   "execution_count": 9,
   "id": "f9f86001",
   "metadata": {},
   "outputs": [],
   "source": [
    "df['ageGroup_infant'] = 1\n",
    "df['ageGroup_toddler'] = 1\n",
    "df['ageGroup_adolescent'] = 1\n",
    "df['ageGroup_youngAd'] = 1\n",
    "df['ageGroup_adult'] = 1\n",
    "df['ageGroup_olderAd'] = 1\n",
    "df['ageGroup_elderly'] = 1\n",
    "\n",
    "\n",
    "df.loc[df['age'] > 2, 'ageGroup_infant'] = 0\n",
    "df.loc[(df['age'] <= 2) & (df['age'] < 4), 'ageGroup_toddler'] = 0\n",
    "df.loc[(df['age'] <= 4) & (df['age'] < 14), 'ageGroup_adolescent'] = 0\n",
    "df.loc[(df['age'] <= 14) & (df['age'] < 30), 'ageGroup_youngAd'] = 0\n",
    "df.loc[(df['age'] <= 30) & (df['age'] < 50), 'ageGroup_adult'] = 0\n",
    "df.loc[(df['age'] <= 50) & (df['age'] < 90), 'ageGroup_olderAd'] = 0\n",
    "df.loc[df['age'] <= 90, 'ageGroup_elderly'] = 0"
   ]
  },
  {
   "cell_type": "markdown",
   "id": "46963622",
   "metadata": {},
   "source": [
    "### Gender, Race, Ethnicity"
   ]
  },
  {
   "cell_type": "code",
   "execution_count": 10,
   "id": "46034ad9",
   "metadata": {},
   "outputs": [
    {
     "name": "stdout",
     "output_type": "stream",
     "text": [
      "['white' 'native' 'asian' 'black' 'other']\n",
      "['M' 'F']\n",
      "['nonhispanic' 'hispanic']\n"
     ]
    }
   ],
   "source": [
    "print(df['RACE'].unique())\n",
    "print(df['GENDER'].unique())\n",
    "print(df['ETHNICITY'].unique())"
   ]
  },
  {
   "cell_type": "code",
   "execution_count": 11,
   "id": "d2c4f8b6",
   "metadata": {},
   "outputs": [],
   "source": [
    "df['race_white'] = 1\n",
    "df['race_native'] = 1\n",
    "df['race_asian'] = 1\n",
    "df['race_black'] = 1\n",
    "df['race_other'] = 1\n",
    "df['gender_M'] = 1\n",
    "df['gender_F'] = 1\n",
    "df['ethnicity_non'] = 1\n",
    "df['ethnicity_his'] = 1\n",
    "\n",
    "\n",
    "df.loc[df['RACE'] == 'white', 'race_white'] = 0\n",
    "df.loc[(df['RACE'] == 'native') , 'race_native'] = 0\n",
    "df.loc[(df['RACE'] == 'asian') , 'race_asian'] = 0\n",
    "df.loc[(df['RACE'] == 'black') , 'race_black'] = 0\n",
    "df.loc[(df['RACE'] == 'other') , 'race_other'] = 0\n",
    "df.loc[(df['GENDER'] == 'M') , 'gender_M'] = 0\n",
    "df.loc[df['GENDER'] == 'F', 'gender_F'] = 0\n",
    "df.loc[(df['ETHNICITY'] == 'nonhispanic') , 'ethnicity_non'] = 0\n",
    "df.loc[df['ETHNICITY'] == 'hispanic', 'ethnicity_his'] = 0\n",
    "df =df.drop(['BIRTHDATE', 'RACE', 'ETHNICITY', 'GENDER', 'age'], axis =1)\n"
   ]
  },
  {
   "cell_type": "code",
   "execution_count": 12,
   "id": "8debd72a",
   "metadata": {
    "scrolled": true
   },
   "outputs": [],
   "source": [
    "df['Id']=df['Id'].astype(str)\n",
    "df.rename(columns = {'Id':'PATIENT'}, inplace = True)\n",
    "df_patients = df\n",
    "df_patients.to_excel(\"output/Patients_Demographics_Synthea.xlsx\") "
   ]
  },
  {
   "cell_type": "markdown",
   "id": "e2ef277f",
   "metadata": {},
   "source": [
    "### Conditions"
   ]
  },
  {
   "cell_type": "markdown",
   "id": "e030bc56",
   "metadata": {},
   "source": [
    "    Formatting data types and calculating condition duration (STOP-START). \n",
    "    DURATION : how long that a single occurence of a condition lasted\n",
    "    TOTAL_DURATION_CON : sum of all durations\n",
    "    CON_PER_ENCOUNTER : count of condition CODE per encounter \n",
    "    ENCOUNTER_PER_CON : count of encounters per condition (visits)"
   ]
  },
  {
   "cell_type": "code",
   "execution_count": 13,
   "id": "e3e18420",
   "metadata": {},
   "outputs": [],
   "source": [
    "df_conditions['PATIENT']=df_conditions['PATIENT'].astype(str)\n",
    "df_conditions['START'] = pd.to_datetime(df_conditions['START'])\n",
    "df_conditions['STOP']=pd.to_datetime(df_conditions['STOP'])\n",
    "df_conditions['DESCRIPTION']=df_conditions['DESCRIPTION'].astype(str)\n",
    "df_conditions['DURATION'] = df_conditions['STOP'] - df_conditions['START']\n",
    "df_conditions['DURATION']= df_conditions['DURATION']/ np.timedelta64(1, 'D')\n",
    "df_conditions['TOTAL_DURATION_CON'] = df_conditions.groupby(['PATIENT','CODE'], sort=False)['DURATION'].transform('sum')\n",
    "df_conditions =df_conditions.drop(['START', 'STOP', 'DURATION'], axis=1)"
   ]
  },
  {
   "cell_type": "code",
   "execution_count": 14,
   "id": "8572f085",
   "metadata": {},
   "outputs": [],
   "source": [
    "df_conditions['CON_PER_ENCOUNTER'] = df_conditions.groupby(['PATIENT','ENCOUNTER'], sort=False)['CODE'].transform('count')\n",
    "df_conditions['ENCOUNTER_PER_CON'] = df_conditions.groupby(['PATIENT','CODE'], sort=False)['ENCOUNTER'].transform('count')\n",
    "df_conditions = df_conditions.drop(['ENCOUNTER'], axis=1)"
   ]
  },
  {
   "cell_type": "code",
   "execution_count": 15,
   "id": "7f4d4dde",
   "metadata": {},
   "outputs": [],
   "source": [
    "df_conditions = df_conditions.drop_duplicates()\n",
    "df_conditions.rename(columns = {'CODE':'CONDITION_CODE', 'DESCRIPTION':'CONDITION_DESC'}, inplace = True)\n",
    "df_conditions.to_excel(\"output/Conditions_Synthea.xlsx\") "
   ]
  },
  {
   "cell_type": "code",
   "execution_count": 16,
   "id": "cd3cd4f6",
   "metadata": {},
   "outputs": [
    {
     "data": {
      "text/html": [
       "<div>\n",
       "<style scoped>\n",
       "    .dataframe tbody tr th:only-of-type {\n",
       "        vertical-align: middle;\n",
       "    }\n",
       "\n",
       "    .dataframe tbody tr th {\n",
       "        vertical-align: top;\n",
       "    }\n",
       "\n",
       "    .dataframe thead th {\n",
       "        text-align: right;\n",
       "    }\n",
       "</style>\n",
       "<table border=\"1\" class=\"dataframe\">\n",
       "  <thead>\n",
       "    <tr style=\"text-align: right;\">\n",
       "      <th></th>\n",
       "      <th>PATIENT</th>\n",
       "      <th>CONDITION_CODE</th>\n",
       "      <th>CONDITION_DESC</th>\n",
       "      <th>TOTAL_DURATION_CON</th>\n",
       "      <th>CON_PER_ENCOUNTER</th>\n",
       "      <th>ENCOUNTER_PER_CON</th>\n",
       "    </tr>\n",
       "  </thead>\n",
       "  <tbody>\n",
       "    <tr>\n",
       "      <th>0</th>\n",
       "      <td>f0f3bc8d-ef38-49ce-a2bd-dfdda982b271</td>\n",
       "      <td>65363002</td>\n",
       "      <td>Otitis media</td>\n",
       "      <td>259.0</td>\n",
       "      <td>1</td>\n",
       "      <td>2</td>\n",
       "    </tr>\n",
       "    <tr>\n",
       "      <th>2</th>\n",
       "      <td>f0f3bc8d-ef38-49ce-a2bd-dfdda982b271</td>\n",
       "      <td>386661006</td>\n",
       "      <td>Fever (finding)</td>\n",
       "      <td>29.0</td>\n",
       "      <td>3</td>\n",
       "      <td>1</td>\n",
       "    </tr>\n",
       "    <tr>\n",
       "      <th>3</th>\n",
       "      <td>f0f3bc8d-ef38-49ce-a2bd-dfdda982b271</td>\n",
       "      <td>840544004</td>\n",
       "      <td>Suspected COVID-19</td>\n",
       "      <td>0.0</td>\n",
       "      <td>3</td>\n",
       "      <td>1</td>\n",
       "    </tr>\n",
       "    <tr>\n",
       "      <th>4</th>\n",
       "      <td>f0f3bc8d-ef38-49ce-a2bd-dfdda982b271</td>\n",
       "      <td>840539006</td>\n",
       "      <td>COVID-19</td>\n",
       "      <td>29.0</td>\n",
       "      <td>3</td>\n",
       "      <td>1</td>\n",
       "    </tr>\n",
       "    <tr>\n",
       "      <th>5</th>\n",
       "      <td>067318a4-db8f-447f-8b6e-f2f61e9baaa5</td>\n",
       "      <td>44465007</td>\n",
       "      <td>Sprain of ankle</td>\n",
       "      <td>14.0</td>\n",
       "      <td>1</td>\n",
       "      <td>1</td>\n",
       "    </tr>\n",
       "    <tr>\n",
       "      <th>...</th>\n",
       "      <td>...</td>\n",
       "      <td>...</td>\n",
       "      <td>...</td>\n",
       "      <td>...</td>\n",
       "      <td>...</td>\n",
       "      <td>...</td>\n",
       "    </tr>\n",
       "    <tr>\n",
       "      <th>114539</th>\n",
       "      <td>2712205f-755e-4897-acb3-926895b7d635</td>\n",
       "      <td>248595008</td>\n",
       "      <td>Sputum finding (finding)</td>\n",
       "      <td>28.0</td>\n",
       "      <td>6</td>\n",
       "      <td>1</td>\n",
       "    </tr>\n",
       "    <tr>\n",
       "      <th>114540</th>\n",
       "      <td>2712205f-755e-4897-acb3-926895b7d635</td>\n",
       "      <td>68962001</td>\n",
       "      <td>Muscle pain (finding)</td>\n",
       "      <td>28.0</td>\n",
       "      <td>6</td>\n",
       "      <td>1</td>\n",
       "    </tr>\n",
       "    <tr>\n",
       "      <th>114541</th>\n",
       "      <td>2712205f-755e-4897-acb3-926895b7d635</td>\n",
       "      <td>57676002</td>\n",
       "      <td>Joint pain (finding)</td>\n",
       "      <td>28.0</td>\n",
       "      <td>6</td>\n",
       "      <td>1</td>\n",
       "    </tr>\n",
       "    <tr>\n",
       "      <th>114542</th>\n",
       "      <td>2712205f-755e-4897-acb3-926895b7d635</td>\n",
       "      <td>840544004</td>\n",
       "      <td>Suspected COVID-19</td>\n",
       "      <td>0.0</td>\n",
       "      <td>6</td>\n",
       "      <td>1</td>\n",
       "    </tr>\n",
       "    <tr>\n",
       "      <th>114543</th>\n",
       "      <td>2712205f-755e-4897-acb3-926895b7d635</td>\n",
       "      <td>840539006</td>\n",
       "      <td>COVID-19</td>\n",
       "      <td>28.0</td>\n",
       "      <td>6</td>\n",
       "      <td>1</td>\n",
       "    </tr>\n",
       "  </tbody>\n",
       "</table>\n",
       "<p>113305 rows × 6 columns</p>\n",
       "</div>"
      ],
      "text/plain": [
       "                                     PATIENT  CONDITION_CODE  \\\n",
       "0       f0f3bc8d-ef38-49ce-a2bd-dfdda982b271        65363002   \n",
       "2       f0f3bc8d-ef38-49ce-a2bd-dfdda982b271       386661006   \n",
       "3       f0f3bc8d-ef38-49ce-a2bd-dfdda982b271       840544004   \n",
       "4       f0f3bc8d-ef38-49ce-a2bd-dfdda982b271       840539006   \n",
       "5       067318a4-db8f-447f-8b6e-f2f61e9baaa5        44465007   \n",
       "...                                      ...             ...   \n",
       "114539  2712205f-755e-4897-acb3-926895b7d635       248595008   \n",
       "114540  2712205f-755e-4897-acb3-926895b7d635        68962001   \n",
       "114541  2712205f-755e-4897-acb3-926895b7d635        57676002   \n",
       "114542  2712205f-755e-4897-acb3-926895b7d635       840544004   \n",
       "114543  2712205f-755e-4897-acb3-926895b7d635       840539006   \n",
       "\n",
       "                  CONDITION_DESC  TOTAL_DURATION_CON  CON_PER_ENCOUNTER  \\\n",
       "0                   Otitis media               259.0                  1   \n",
       "2                Fever (finding)                29.0                  3   \n",
       "3             Suspected COVID-19                 0.0                  3   \n",
       "4                       COVID-19                29.0                  3   \n",
       "5                Sprain of ankle                14.0                  1   \n",
       "...                          ...                 ...                ...   \n",
       "114539  Sputum finding (finding)                28.0                  6   \n",
       "114540     Muscle pain (finding)                28.0                  6   \n",
       "114541      Joint pain (finding)                28.0                  6   \n",
       "114542        Suspected COVID-19                 0.0                  6   \n",
       "114543                  COVID-19                28.0                  6   \n",
       "\n",
       "        ENCOUNTER_PER_CON  \n",
       "0                       2  \n",
       "2                       1  \n",
       "3                       1  \n",
       "4                       1  \n",
       "5                       1  \n",
       "...                   ...  \n",
       "114539                  1  \n",
       "114540                  1  \n",
       "114541                  1  \n",
       "114542                  1  \n",
       "114543                  1  \n",
       "\n",
       "[113305 rows x 6 columns]"
      ]
     },
     "execution_count": 16,
     "metadata": {},
     "output_type": "execute_result"
    }
   ],
   "source": [
    "df_conditions\n",
    "#multiple conditions per patient"
   ]
  },
  {
   "cell_type": "code",
   "execution_count": 17,
   "id": "2f3a07e5",
   "metadata": {},
   "outputs": [
    {
     "data": {
      "image/png": "[encoded data removed]",
      "text/plain": [
       "<Figure size 1440x144 with 1 Axes>"
      ]
     },
     "metadata": {},
     "output_type": "display_data"
    }
   ],
   "source": [
    "plt.rcParams['figure.figsize'] = (20,2)\n",
    "sns.heatmap(df_conditions.isna(), yticklabels = False, cbar = False , cmap = 'viridis')\n",
    "plt.title(\"Missing null values\")\n",
    "plt.show()\n"
   ]
  },
  {
   "cell_type": "markdown",
   "id": "6f50f6d7",
   "metadata": {},
   "source": [
    "#### Covid code conditions \n",
    " - Synthea COVID-19 Analysis.html\n",
    " - [Synthea Git](https://github.com/synthetichealth/synthea-sample-data/blob/master/downloads/10k_synthea_covid19_csv.zip)\n",
    " - file also in Synthea Pipeline/data/10k_synthea_covid19_csv "
   ]
  },
  {
   "cell_type": "code",
   "execution_count": 18,
   "id": "d5f0249b",
   "metadata": {},
   "outputs": [],
   "source": [
    "df_covid = df_conditions.loc[(df_conditions['CONDITION_CODE']) == 840539006]\n",
    "df_covid.to_excel(\"output/CovidPatients_Synthea.xlsx\") "
   ]
  },
  {
   "cell_type": "markdown",
   "id": "34da3d9d",
   "metadata": {},
   "source": [
    "### Observations"
   ]
  },
  {
   "cell_type": "code",
   "execution_count": 19,
   "id": "4f2ed7d4",
   "metadata": {},
   "outputs": [
    {
     "data": {
      "image/png": "[encoded data removed]",
      "text/plain": [
       "<Figure size 1440x360 with 1 Axes>"
      ]
     },
     "metadata": {},
     "output_type": "display_data"
    }
   ],
   "source": [
    "df_observations = df_observations.drop(['DATE', 'VALUE', 'UNITS', 'TYPE'], axis=1)\n",
    "plt.rcParams['figure.figsize'] = (20,5)\n",
    "sns.heatmap(df_observations.isna(), yticklabels = False, cbar = False , cmap = 'viridis')\n",
    "plt.title(\"Missing null values\")\n",
    "plt.show()\n"
   ]
  },
  {
   "cell_type": "code",
   "execution_count": 20,
   "id": "7d2dcb6a",
   "metadata": {},
   "outputs": [],
   "source": [
    "df_observations.rename(columns = {'CODE':'OBSERVATION_CODE', 'DESCRIPTION':'OBSERVATION_DESC'}, inplace = True)\n",
    "df_observations.to_csv(\"output/Observations_Synthea.csv\") "
   ]
  },
  {
   "cell_type": "markdown",
   "id": "17469e78",
   "metadata": {},
   "source": [
    "### Medications - Drugs"
   ]
  },
  {
   "cell_type": "code",
   "execution_count": 21,
   "id": "c89cdff6",
   "metadata": {},
   "outputs": [
    {
     "data": {
      "image/png": "[encoded data removed]",
      "text/plain": [
       "<Figure size 1440x360 with 1 Axes>"
      ]
     },
     "metadata": {},
     "output_type": "display_data"
    }
   ],
   "source": [
    "df_medications = df_medications.drop(['PAYER', 'BASE_COST', 'PAYER_COVERAGE', 'DISPENSES', 'TOTALCOST'], axis=1)\n",
    "plt.rcParams['figure.figsize'] = (20,5)\n",
    "sns.heatmap(df_medications.isna(), yticklabels = False, cbar = False , cmap = 'viridis')\n",
    "plt.title(\"Missing null values\")\n",
    "plt.show()"
   ]
  },
  {
   "cell_type": "code",
   "execution_count": 22,
   "id": "80a8a704",
   "metadata": {},
   "outputs": [],
   "source": [
    "df_medications['PATIENT']=df_medications['PATIENT'].astype(str)\n",
    "df_medications['START'] = pd.to_datetime(df_medications['START'])\n",
    "df_medications['STOP']=pd.to_datetime(df_medications['STOP'])\n",
    "df_medications['DESCRIPTION']=df_medications['DESCRIPTION'].astype(str)\n",
    "df_medications['DURATION'] = df_medications['STOP'] - df_medications['START']\n",
    "df_medications['DURATION']= df_medications['DURATION']/ np.timedelta64(1, 'D')\n",
    "df_medications['TOTAL_DURATION_MED'] = df_medications.groupby(['PATIENT','CODE'], sort=False)['DURATION'].transform('sum')\n",
    "df_medications= df_medications.drop(['START', 'STOP', 'DURATION'], axis=1)"
   ]
  },
  {
   "cell_type": "code",
   "execution_count": 23,
   "id": "10bc9c38",
   "metadata": {},
   "outputs": [],
   "source": [
    "df_medications['OBS_PER_ENCOUNTER_MED'] = df_medications.groupby(['PATIENT','ENCOUNTER'], sort=False)['CODE'].transform('count')\n",
    "#this encounter they went for only one code 'condition'\n",
    "df_medications['ENCOUNTER_PER_MED'] = df_medications.groupby(['PATIENT','CODE'], sort=False)['ENCOUNTER'].transform('count')\n",
    "df_medications = df_medications.drop(['ENCOUNTER'], axis=1)\n",
    "df_medications.rename(columns = {'CODE':'MEDICATION_CODE', 'DESCRIPTION':'MEDICATION_DESC'}, inplace = True)\n",
    "df_medications.to_csv(\"output/Medications_Drugs_Synthea.csv\") \n"
   ]
  }
 ],
 "metadata": {
  "kernelspec": {
   "display_name": "Python 3 (ipykernel)",
   "language": "python",
   "name": "python3"
  },
  "language_info": {
   "codemirror_mode": {
    "name": "ipython",
    "version": 3
   },
   "file_extension": ".py",
   "mimetype": "text/x-python",
   "name": "python",
   "nbconvert_exporter": "python",
   "pygments_lexer": "ipython3",
   "version": "3.9.12"
  }
 },
 "nbformat": 4,
 "nbformat_minor": 5
}
